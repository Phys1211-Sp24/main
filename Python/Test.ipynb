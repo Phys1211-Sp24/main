{
 "cells": [
  {
   "cell_type": "code",
   "execution_count": 2,
   "id": "1b6b0d08",
   "metadata": {},
   "outputs": [],
   "source": [
    "import cryptograph as cp"
   ]
  },
  {
   "cell_type": "code",
   "execution_count": 3,
   "id": "baab11f6",
   "metadata": {},
   "outputs": [
    {
     "data": {
      "text/plain": [
       "['__builtins__',\n",
       " '__cached__',\n",
       " '__doc__',\n",
       " '__file__',\n",
       " '__loader__',\n",
       " '__name__',\n",
       " '__package__',\n",
       " '__spec__',\n",
       " 'falling1D',\n",
       " 'mh',\n",
       " 'projectile',\n",
       " 'rising1D']"
      ]
     },
     "execution_count": 3,
     "metadata": {},
     "output_type": "execute_result"
    }
   ],
   "source": [
    "cp.decode\n",
    "cp.encode"
   ]
  },
  {
   "cell_type": "code",
   "execution_count": 6,
   "id": "96f2ab51",
   "metadata": {},
   "outputs": [
    {
     "data": {
      "text/plain": [
       "(2.634155559226539, 25.814724480420086)"
      ]
     },
     "execution_count": 6,
     "metadata": {},
     "output_type": "execute_result"
    }
   ],
   "source": [
    "fun.falling1D(34)"
   ]
  },
  {
   "cell_type": "code",
   "execution_count": null,
   "id": "b29b8735",
   "metadata": {},
   "outputs": [],
   "source": []
  }
 ],
 "metadata": {
  "kernelspec": {
   "display_name": "Python 3 (ipykernel)",
   "language": "python",
   "name": "python3"
  },
  "language_info": {
   "codemirror_mode": {
    "name": "ipython",
    "version": 3
   },
   "file_extension": ".py",
   "mimetype": "text/x-python",
   "name": "python",
   "nbconvert_exporter": "python",
   "pygments_lexer": "ipython3",
   "version": "3.11.5"
  }
 },
 "nbformat": 4,
 "nbformat_minor": 5
}
