{
 "cells": [
  {
   "cell_type": "markdown",
   "metadata": {},
   "source": [
    "# pandas - Python Data Analysis Library\n",
    "`pandas` is a software library written for data manipulation and analysis. It contains the `DataFrame` object for manipulating numerical tables and time series data. The dataframe in pandas combines aspects of MATLAB indexing with functionality similar to the statistical programming language `R`.\n",
    "First, since `pandas` is an auxiliary library, you must allows load it."
   ]
  },
  {
   "cell_type": "code",
   "execution_count": null,
   "metadata": {},
   "outputs": [],
   "source": [
    "import pandas as pd"
   ]
  },
  {
   "cell_type": "markdown",
   "metadata": {},
   "source": [
    "`pandas` provides an easy to use function `read_table`."
   ]
  },
  {
   "cell_type": "code",
   "execution_count": 39,
   "metadata": {},
   "outputs": [
    {
     "name": "stdout",
     "output_type": "stream",
     "text": [
      "<class 'pandas.core.frame.DataFrame'>\n"
     ]
    }
   ],
   "source": [
    "# read table\n",
    "dftemps = pd.read_table('data/GlobalTempbyMonth.txt', header=None, index_col=0, sep='\\s+')\n",
    "print(type(df))"
   ]
  },
  {
   "cell_type": "code",
   "execution_count": 40,
   "metadata": {},
   "outputs": [
    {
     "data": {
      "text/html": [
       "<div>\n",
       "<style scoped>\n",
       "    .dataframe tbody tr th:only-of-type {\n",
       "        vertical-align: middle;\n",
       "    }\n",
       "\n",
       "    .dataframe tbody tr th {\n",
       "        vertical-align: top;\n",
       "    }\n",
       "\n",
       "    .dataframe thead th {\n",
       "        text-align: right;\n",
       "    }\n",
       "</style>\n",
       "<table border=\"1\" class=\"dataframe\">\n",
       "  <thead>\n",
       "    <tr style=\"text-align: right;\">\n",
       "      <th></th>\n",
       "      <th>1</th>\n",
       "      <th>2</th>\n",
       "      <th>3</th>\n",
       "      <th>4</th>\n",
       "      <th>5</th>\n",
       "      <th>6</th>\n",
       "      <th>7</th>\n",
       "      <th>8</th>\n",
       "      <th>9</th>\n",
       "      <th>10</th>\n",
       "      <th>11</th>\n",
       "    </tr>\n",
       "    <tr>\n",
       "      <th>0</th>\n",
       "      <th></th>\n",
       "      <th></th>\n",
       "      <th></th>\n",
       "      <th></th>\n",
       "      <th></th>\n",
       "      <th></th>\n",
       "      <th></th>\n",
       "      <th></th>\n",
       "      <th></th>\n",
       "      <th></th>\n",
       "      <th></th>\n",
       "    </tr>\n",
       "  </thead>\n",
       "  <tbody>\n",
       "    <tr>\n",
       "      <th>1850/01</th>\n",
       "      <td>-0.700</td>\n",
       "      <td>-0.757</td>\n",
       "      <td>-0.627</td>\n",
       "      <td>-0.889</td>\n",
       "      <td>-0.510</td>\n",
       "      <td>-1.047</td>\n",
       "      <td>-0.352</td>\n",
       "      <td>-0.898</td>\n",
       "      <td>-0.500</td>\n",
       "      <td>-1.100</td>\n",
       "      <td>-0.299</td>\n",
       "    </tr>\n",
       "    <tr>\n",
       "      <th>1850/02</th>\n",
       "      <td>-0.286</td>\n",
       "      <td>-0.342</td>\n",
       "      <td>-0.218</td>\n",
       "      <td>-0.474</td>\n",
       "      <td>-0.098</td>\n",
       "      <td>-0.625</td>\n",
       "      <td>0.052</td>\n",
       "      <td>-0.482</td>\n",
       "      <td>-0.082</td>\n",
       "      <td>-0.676</td>\n",
       "      <td>0.111</td>\n",
       "    </tr>\n",
       "    <tr>\n",
       "      <th>1850/03</th>\n",
       "      <td>-0.732</td>\n",
       "      <td>-0.799</td>\n",
       "      <td>-0.680</td>\n",
       "      <td>-0.934</td>\n",
       "      <td>-0.529</td>\n",
       "      <td>-1.009</td>\n",
       "      <td>-0.454</td>\n",
       "      <td>-0.942</td>\n",
       "      <td>-0.519</td>\n",
       "      <td>-1.080</td>\n",
       "      <td>-0.382</td>\n",
       "    </tr>\n",
       "    <tr>\n",
       "      <th>1850/04</th>\n",
       "      <td>-0.563</td>\n",
       "      <td>-0.620</td>\n",
       "      <td>-0.493</td>\n",
       "      <td>-0.767</td>\n",
       "      <td>-0.360</td>\n",
       "      <td>-0.816</td>\n",
       "      <td>-0.310</td>\n",
       "      <td>-0.777</td>\n",
       "      <td>-0.349</td>\n",
       "      <td>-0.894</td>\n",
       "      <td>-0.231</td>\n",
       "    </tr>\n",
       "    <tr>\n",
       "      <th>1850/05</th>\n",
       "      <td>-0.327</td>\n",
       "      <td>-0.386</td>\n",
       "      <td>-0.279</td>\n",
       "      <td>-0.521</td>\n",
       "      <td>-0.132</td>\n",
       "      <td>-0.589</td>\n",
       "      <td>-0.064</td>\n",
       "      <td>-0.533</td>\n",
       "      <td>-0.128</td>\n",
       "      <td>-0.661</td>\n",
       "      <td>0.001</td>\n",
       "    </tr>\n",
       "    <tr>\n",
       "      <th>...</th>\n",
       "      <td>...</td>\n",
       "      <td>...</td>\n",
       "      <td>...</td>\n",
       "      <td>...</td>\n",
       "      <td>...</td>\n",
       "      <td>...</td>\n",
       "      <td>...</td>\n",
       "      <td>...</td>\n",
       "      <td>...</td>\n",
       "      <td>...</td>\n",
       "      <td>...</td>\n",
       "    </tr>\n",
       "    <tr>\n",
       "      <th>2017/11</th>\n",
       "      <td>0.552</td>\n",
       "      <td>0.509</td>\n",
       "      <td>0.590</td>\n",
       "      <td>0.513</td>\n",
       "      <td>0.591</td>\n",
       "      <td>0.441</td>\n",
       "      <td>0.663</td>\n",
       "      <td>0.494</td>\n",
       "      <td>0.610</td>\n",
       "      <td>0.427</td>\n",
       "      <td>0.678</td>\n",
       "    </tr>\n",
       "    <tr>\n",
       "      <th>2017/12</th>\n",
       "      <td>0.600</td>\n",
       "      <td>0.542</td>\n",
       "      <td>0.640</td>\n",
       "      <td>0.560</td>\n",
       "      <td>0.640</td>\n",
       "      <td>0.475</td>\n",
       "      <td>0.725</td>\n",
       "      <td>0.533</td>\n",
       "      <td>0.658</td>\n",
       "      <td>0.458</td>\n",
       "      <td>0.738</td>\n",
       "    </tr>\n",
       "    <tr>\n",
       "      <th>2018/01</th>\n",
       "      <td>0.554</td>\n",
       "      <td>0.507</td>\n",
       "      <td>0.603</td>\n",
       "      <td>0.527</td>\n",
       "      <td>0.581</td>\n",
       "      <td>0.410</td>\n",
       "      <td>0.699</td>\n",
       "      <td>0.503</td>\n",
       "      <td>0.611</td>\n",
       "      <td>0.402</td>\n",
       "      <td>0.710</td>\n",
       "    </tr>\n",
       "    <tr>\n",
       "      <th>2018/02</th>\n",
       "      <td>0.522</td>\n",
       "      <td>0.469</td>\n",
       "      <td>0.569</td>\n",
       "      <td>0.495</td>\n",
       "      <td>0.550</td>\n",
       "      <td>0.404</td>\n",
       "      <td>0.640</td>\n",
       "      <td>0.468</td>\n",
       "      <td>0.579</td>\n",
       "      <td>0.393</td>\n",
       "      <td>0.654</td>\n",
       "    </tr>\n",
       "    <tr>\n",
       "      <th>2018/03</th>\n",
       "      <td>0.619</td>\n",
       "      <td>0.580</td>\n",
       "      <td>0.660</td>\n",
       "      <td>0.594</td>\n",
       "      <td>0.644</td>\n",
       "      <td>0.498</td>\n",
       "      <td>0.741</td>\n",
       "      <td>0.568</td>\n",
       "      <td>0.668</td>\n",
       "      <td>0.484</td>\n",
       "      <td>0.750</td>\n",
       "    </tr>\n",
       "  </tbody>\n",
       "</table>\n",
       "<p>2019 rows × 11 columns</p>\n",
       "</div>"
      ],
      "text/plain": [
       "            1      2      3      4      5      6      7      8      9      10  \\\n",
       "0                                                                               \n",
       "1850/01 -0.700 -0.757 -0.627 -0.889 -0.510 -1.047 -0.352 -0.898 -0.500 -1.100   \n",
       "1850/02 -0.286 -0.342 -0.218 -0.474 -0.098 -0.625  0.052 -0.482 -0.082 -0.676   \n",
       "1850/03 -0.732 -0.799 -0.680 -0.934 -0.529 -1.009 -0.454 -0.942 -0.519 -1.080   \n",
       "1850/04 -0.563 -0.620 -0.493 -0.767 -0.360 -0.816 -0.310 -0.777 -0.349 -0.894   \n",
       "1850/05 -0.327 -0.386 -0.279 -0.521 -0.132 -0.589 -0.064 -0.533 -0.128 -0.661   \n",
       "...        ...    ...    ...    ...    ...    ...    ...    ...    ...    ...   \n",
       "2017/11  0.552  0.509  0.590  0.513  0.591  0.441  0.663  0.494  0.610  0.427   \n",
       "2017/12  0.600  0.542  0.640  0.560  0.640  0.475  0.725  0.533  0.658  0.458   \n",
       "2018/01  0.554  0.507  0.603  0.527  0.581  0.410  0.699  0.503  0.611  0.402   \n",
       "2018/02  0.522  0.469  0.569  0.495  0.550  0.404  0.640  0.468  0.579  0.393   \n",
       "2018/03  0.619  0.580  0.660  0.594  0.644  0.498  0.741  0.568  0.668  0.484   \n",
       "\n",
       "            11  \n",
       "0               \n",
       "1850/01 -0.299  \n",
       "1850/02  0.111  \n",
       "1850/03 -0.382  \n",
       "1850/04 -0.231  \n",
       "1850/05  0.001  \n",
       "...        ...  \n",
       "2017/11  0.678  \n",
       "2017/12  0.738  \n",
       "2018/01  0.710  \n",
       "2018/02  0.654  \n",
       "2018/03  0.750  \n",
       "\n",
       "[2019 rows x 11 columns]"
      ]
     },
     "execution_count": 40,
     "metadata": {},
     "output_type": "execute_result"
    }
   ],
   "source": [
    "# show data\n",
    "dftemps"
   ]
  },
  {
   "cell_type": "markdown",
   "metadata": {},
   "source": [
    "Notice that the dataframe has row and column headers that can be either strings or numbers. The index for the rows in the dataframe df is the first column of this file - the dates. The index of a dataframe is also bolded when printed."
   ]
  },
  {
   "cell_type": "code",
   "execution_count": 41,
   "metadata": {},
   "outputs": [
    {
     "data": {
      "text/plain": [
       "Index(['1850/01', '1850/02', '1850/03', '1850/04', '1850/05', '1850/06',\n",
       "       '1850/07', '1850/08', '1850/09', '1850/10',\n",
       "       ...\n",
       "       '2017/06', '2017/07', '2017/08', '2017/09', '2017/10', '2017/11',\n",
       "       '2017/12', '2018/01', '2018/02', '2018/03'],\n",
       "      dtype='object', name=0, length=2019)"
      ]
     },
     "execution_count": 41,
     "metadata": {},
     "output_type": "execute_result"
    }
   ],
   "source": [
    "# show index\n",
    "dftemps.index"
   ]
  },
  {
   "cell_type": "code",
   "execution_count": null,
   "metadata": {},
   "outputs": [],
   "source": []
  },
  {
   "cell_type": "markdown",
   "metadata": {},
   "source": [
    "`pandas` has a function for reading excel files, `read_excel`"
   ]
  },
  {
   "cell_type": "code",
   "execution_count": 42,
   "metadata": {},
   "outputs": [],
   "source": [
    "dfcarbon = pd.read_excel('data/GlobalCarbonBudget2022.xlsx','Global Carbon Budget', header=0,  skiprows=20)"
   ]
  },
  {
   "cell_type": "code",
   "execution_count": 43,
   "metadata": {
    "scrolled": true
   },
   "outputs": [
    {
     "data": {
      "text/html": [
       "<div>\n",
       "<style scoped>\n",
       "    .dataframe tbody tr th:only-of-type {\n",
       "        vertical-align: middle;\n",
       "    }\n",
       "\n",
       "    .dataframe tbody tr th {\n",
       "        vertical-align: top;\n",
       "    }\n",
       "\n",
       "    .dataframe thead th {\n",
       "        text-align: right;\n",
       "    }\n",
       "</style>\n",
       "<table border=\"1\" class=\"dataframe\">\n",
       "  <thead>\n",
       "    <tr style=\"text-align: right;\">\n",
       "      <th></th>\n",
       "      <th>Year</th>\n",
       "      <th>fossil emissions excluding carbonation</th>\n",
       "      <th>land-use change emissions</th>\n",
       "      <th>atmospheric growth</th>\n",
       "      <th>ocean sink</th>\n",
       "      <th>land sink</th>\n",
       "      <th>cement carbonation sink</th>\n",
       "      <th>budget imbalance</th>\n",
       "    </tr>\n",
       "  </thead>\n",
       "  <tbody>\n",
       "    <tr>\n",
       "      <th>0</th>\n",
       "      <td>1959</td>\n",
       "      <td>2.417091</td>\n",
       "      <td>1.938933</td>\n",
       "      <td>2.03904</td>\n",
       "      <td>0.975005</td>\n",
       "      <td>0.401805</td>\n",
       "      <td>0.012684</td>\n",
       "      <td>0.927490</td>\n",
       "    </tr>\n",
       "    <tr>\n",
       "      <th>1</th>\n",
       "      <td>1960</td>\n",
       "      <td>2.562137</td>\n",
       "      <td>1.792600</td>\n",
       "      <td>1.50804</td>\n",
       "      <td>0.959013</td>\n",
       "      <td>1.234131</td>\n",
       "      <td>0.013835</td>\n",
       "      <td>0.639717</td>\n",
       "    </tr>\n",
       "    <tr>\n",
       "      <th>2</th>\n",
       "      <td>1961</td>\n",
       "      <td>2.570540</td>\n",
       "      <td>1.666500</td>\n",
       "      <td>1.65672</td>\n",
       "      <td>0.805321</td>\n",
       "      <td>0.839819</td>\n",
       "      <td>0.014723</td>\n",
       "      <td>0.920457</td>\n",
       "    </tr>\n",
       "    <tr>\n",
       "      <th>3</th>\n",
       "      <td>1962</td>\n",
       "      <td>2.661315</td>\n",
       "      <td>1.608267</td>\n",
       "      <td>1.18944</td>\n",
       "      <td>0.895229</td>\n",
       "      <td>1.322231</td>\n",
       "      <td>0.015872</td>\n",
       "      <td>0.846810</td>\n",
       "    </tr>\n",
       "    <tr>\n",
       "      <th>4</th>\n",
       "      <td>1963</td>\n",
       "      <td>2.803399</td>\n",
       "      <td>1.542733</td>\n",
       "      <td>1.21068</td>\n",
       "      <td>1.059837</td>\n",
       "      <td>0.871917</td>\n",
       "      <td>0.016867</td>\n",
       "      <td>1.186831</td>\n",
       "    </tr>\n",
       "    <tr>\n",
       "      <th>...</th>\n",
       "      <td>...</td>\n",
       "      <td>...</td>\n",
       "      <td>...</td>\n",
       "      <td>...</td>\n",
       "      <td>...</td>\n",
       "      <td>...</td>\n",
       "      <td>...</td>\n",
       "      <td>...</td>\n",
       "    </tr>\n",
       "    <tr>\n",
       "      <th>58</th>\n",
       "      <td>2017</td>\n",
       "      <td>9.851730</td>\n",
       "      <td>1.182300</td>\n",
       "      <td>4.54536</td>\n",
       "      <td>2.854828</td>\n",
       "      <td>3.555004</td>\n",
       "      <td>0.202927</td>\n",
       "      <td>-0.124088</td>\n",
       "    </tr>\n",
       "    <tr>\n",
       "      <th>59</th>\n",
       "      <td>2018</td>\n",
       "      <td>10.050902</td>\n",
       "      <td>1.141200</td>\n",
       "      <td>5.03388</td>\n",
       "      <td>2.947231</td>\n",
       "      <td>3.647435</td>\n",
       "      <td>0.209702</td>\n",
       "      <td>-0.646145</td>\n",
       "    </tr>\n",
       "    <tr>\n",
       "      <th>60</th>\n",
       "      <td>2019</td>\n",
       "      <td>10.120786</td>\n",
       "      <td>1.243800</td>\n",
       "      <td>5.43744</td>\n",
       "      <td>2.994756</td>\n",
       "      <td>3.041949</td>\n",
       "      <td>0.214002</td>\n",
       "      <td>-0.323561</td>\n",
       "    </tr>\n",
       "    <tr>\n",
       "      <th>61</th>\n",
       "      <td>2020</td>\n",
       "      <td>9.624478</td>\n",
       "      <td>1.107467</td>\n",
       "      <td>4.99140</td>\n",
       "      <td>2.998115</td>\n",
       "      <td>3.105137</td>\n",
       "      <td>0.220563</td>\n",
       "      <td>-0.583270</td>\n",
       "    </tr>\n",
       "    <tr>\n",
       "      <th>62</th>\n",
       "      <td>2021</td>\n",
       "      <td>10.132055</td>\n",
       "      <td>1.075067</td>\n",
       "      <td>5.22504</td>\n",
       "      <td>2.879512</td>\n",
       "      <td>3.450347</td>\n",
       "      <td>0.229795</td>\n",
       "      <td>-0.577571</td>\n",
       "    </tr>\n",
       "  </tbody>\n",
       "</table>\n",
       "<p>63 rows × 8 columns</p>\n",
       "</div>"
      ],
      "text/plain": [
       "    Year  fossil emissions excluding carbonation  land-use change emissions  \\\n",
       "0   1959                                2.417091                   1.938933   \n",
       "1   1960                                2.562137                   1.792600   \n",
       "2   1961                                2.570540                   1.666500   \n",
       "3   1962                                2.661315                   1.608267   \n",
       "4   1963                                2.803399                   1.542733   \n",
       "..   ...                                     ...                        ...   \n",
       "58  2017                                9.851730                   1.182300   \n",
       "59  2018                               10.050902                   1.141200   \n",
       "60  2019                               10.120786                   1.243800   \n",
       "61  2020                                9.624478                   1.107467   \n",
       "62  2021                               10.132055                   1.075067   \n",
       "\n",
       "    atmospheric growth  ocean sink  land sink  cement carbonation sink  \\\n",
       "0              2.03904    0.975005   0.401805                 0.012684   \n",
       "1              1.50804    0.959013   1.234131                 0.013835   \n",
       "2              1.65672    0.805321   0.839819                 0.014723   \n",
       "3              1.18944    0.895229   1.322231                 0.015872   \n",
       "4              1.21068    1.059837   0.871917                 0.016867   \n",
       "..                 ...         ...        ...                      ...   \n",
       "58             4.54536    2.854828   3.555004                 0.202927   \n",
       "59             5.03388    2.947231   3.647435                 0.209702   \n",
       "60             5.43744    2.994756   3.041949                 0.214002   \n",
       "61             4.99140    2.998115   3.105137                 0.220563   \n",
       "62             5.22504    2.879512   3.450347                 0.229795   \n",
       "\n",
       "    budget imbalance  \n",
       "0           0.927490  \n",
       "1           0.639717  \n",
       "2           0.920457  \n",
       "3           0.846810  \n",
       "4           1.186831  \n",
       "..               ...  \n",
       "58         -0.124088  \n",
       "59         -0.646145  \n",
       "60         -0.323561  \n",
       "61         -0.583270  \n",
       "62         -0.577571  \n",
       "\n",
       "[63 rows x 8 columns]"
      ]
     },
     "execution_count": 43,
     "metadata": {},
     "output_type": "execute_result"
    }
   ],
   "source": [
    "dfcarbon"
   ]
  },
  {
   "cell_type": "code",
   "execution_count": 44,
   "metadata": {
    "scrolled": true
   },
   "outputs": [
    {
     "data": {
      "text/plain": [
       "Index(['Year', 'fossil emissions excluding carbonation',\n",
       "       'land-use change emissions', 'atmospheric growth', 'ocean sink',\n",
       "       'land sink', 'cement carbonation sink', 'budget imbalance'],\n",
       "      dtype='object')"
      ]
     },
     "execution_count": 44,
     "metadata": {},
     "output_type": "execute_result"
    }
   ],
   "source": [
    "dfcarbon.columns"
   ]
  },
  {
   "cell_type": "code",
   "execution_count": 50,
   "metadata": {},
   "outputs": [
    {
     "name": "stdout",
     "output_type": "stream",
     "text": [
      "{'Year': 'Year', 'fossil emissions excluding carbonation': 'fossil emissions', 'land-use change emissions': 'land-use change', 'atmospheric growth': 'atmospheric growth', 'ocean sink': 'ocean sink', 'land sink': 'land sink', 'cement carbonation sink': 'cement carbonation', 'budget imbalance': 'budget imbalance'}\n"
     ]
    }
   ],
   "source": [
    "name_dict = {}\n",
    "for name in dfcarbon.columns:\n",
    "    namelist = name.split(' ')\n",
    "    name_dict[name] = ' '.join(namelist[0:2])\n",
    "print(name_dict)"
   ]
  },
  {
   "cell_type": "code",
   "execution_count": 55,
   "metadata": {
    "scrolled": true
   },
   "outputs": [],
   "source": [
    "dfcarbonC = dfcarbon.rename(columns = name_dict)"
   ]
  },
  {
   "cell_type": "code",
   "execution_count": 57,
   "metadata": {},
   "outputs": [
    {
     "data": {
      "text/html": [
       "<div>\n",
       "<style scoped>\n",
       "    .dataframe tbody tr th:only-of-type {\n",
       "        vertical-align: middle;\n",
       "    }\n",
       "\n",
       "    .dataframe tbody tr th {\n",
       "        vertical-align: top;\n",
       "    }\n",
       "\n",
       "    .dataframe thead th {\n",
       "        text-align: right;\n",
       "    }\n",
       "</style>\n",
       "<table border=\"1\" class=\"dataframe\">\n",
       "  <thead>\n",
       "    <tr style=\"text-align: right;\">\n",
       "      <th></th>\n",
       "      <th>Year</th>\n",
       "      <th>fossil emissions excluding carbonation</th>\n",
       "      <th>land-use change emissions</th>\n",
       "      <th>atmospheric growth</th>\n",
       "      <th>ocean sink</th>\n",
       "      <th>land sink</th>\n",
       "      <th>cement carbonation sink</th>\n",
       "      <th>budget imbalance</th>\n",
       "    </tr>\n",
       "  </thead>\n",
       "  <tbody>\n",
       "    <tr>\n",
       "      <th>0</th>\n",
       "      <td>1959</td>\n",
       "      <td>2.417091</td>\n",
       "      <td>1.938933</td>\n",
       "      <td>2.03904</td>\n",
       "      <td>0.975005</td>\n",
       "      <td>0.401805</td>\n",
       "      <td>0.012684</td>\n",
       "      <td>0.927490</td>\n",
       "    </tr>\n",
       "    <tr>\n",
       "      <th>1</th>\n",
       "      <td>1960</td>\n",
       "      <td>2.562137</td>\n",
       "      <td>1.792600</td>\n",
       "      <td>1.50804</td>\n",
       "      <td>0.959013</td>\n",
       "      <td>1.234131</td>\n",
       "      <td>0.013835</td>\n",
       "      <td>0.639717</td>\n",
       "    </tr>\n",
       "    <tr>\n",
       "      <th>2</th>\n",
       "      <td>1961</td>\n",
       "      <td>2.570540</td>\n",
       "      <td>1.666500</td>\n",
       "      <td>1.65672</td>\n",
       "      <td>0.805321</td>\n",
       "      <td>0.839819</td>\n",
       "      <td>0.014723</td>\n",
       "      <td>0.920457</td>\n",
       "    </tr>\n",
       "    <tr>\n",
       "      <th>3</th>\n",
       "      <td>1962</td>\n",
       "      <td>2.661315</td>\n",
       "      <td>1.608267</td>\n",
       "      <td>1.18944</td>\n",
       "      <td>0.895229</td>\n",
       "      <td>1.322231</td>\n",
       "      <td>0.015872</td>\n",
       "      <td>0.846810</td>\n",
       "    </tr>\n",
       "    <tr>\n",
       "      <th>4</th>\n",
       "      <td>1963</td>\n",
       "      <td>2.803399</td>\n",
       "      <td>1.542733</td>\n",
       "      <td>1.21068</td>\n",
       "      <td>1.059837</td>\n",
       "      <td>0.871917</td>\n",
       "      <td>0.016867</td>\n",
       "      <td>1.186831</td>\n",
       "    </tr>\n",
       "    <tr>\n",
       "      <th>...</th>\n",
       "      <td>...</td>\n",
       "      <td>...</td>\n",
       "      <td>...</td>\n",
       "      <td>...</td>\n",
       "      <td>...</td>\n",
       "      <td>...</td>\n",
       "      <td>...</td>\n",
       "      <td>...</td>\n",
       "    </tr>\n",
       "    <tr>\n",
       "      <th>58</th>\n",
       "      <td>2017</td>\n",
       "      <td>9.851730</td>\n",
       "      <td>1.182300</td>\n",
       "      <td>4.54536</td>\n",
       "      <td>2.854828</td>\n",
       "      <td>3.555004</td>\n",
       "      <td>0.202927</td>\n",
       "      <td>-0.124088</td>\n",
       "    </tr>\n",
       "    <tr>\n",
       "      <th>59</th>\n",
       "      <td>2018</td>\n",
       "      <td>10.050902</td>\n",
       "      <td>1.141200</td>\n",
       "      <td>5.03388</td>\n",
       "      <td>2.947231</td>\n",
       "      <td>3.647435</td>\n",
       "      <td>0.209702</td>\n",
       "      <td>-0.646145</td>\n",
       "    </tr>\n",
       "    <tr>\n",
       "      <th>60</th>\n",
       "      <td>2019</td>\n",
       "      <td>10.120786</td>\n",
       "      <td>1.243800</td>\n",
       "      <td>5.43744</td>\n",
       "      <td>2.994756</td>\n",
       "      <td>3.041949</td>\n",
       "      <td>0.214002</td>\n",
       "      <td>-0.323561</td>\n",
       "    </tr>\n",
       "    <tr>\n",
       "      <th>61</th>\n",
       "      <td>2020</td>\n",
       "      <td>9.624478</td>\n",
       "      <td>1.107467</td>\n",
       "      <td>4.99140</td>\n",
       "      <td>2.998115</td>\n",
       "      <td>3.105137</td>\n",
       "      <td>0.220563</td>\n",
       "      <td>-0.583270</td>\n",
       "    </tr>\n",
       "    <tr>\n",
       "      <th>62</th>\n",
       "      <td>2021</td>\n",
       "      <td>10.132055</td>\n",
       "      <td>1.075067</td>\n",
       "      <td>5.22504</td>\n",
       "      <td>2.879512</td>\n",
       "      <td>3.450347</td>\n",
       "      <td>0.229795</td>\n",
       "      <td>-0.577571</td>\n",
       "    </tr>\n",
       "  </tbody>\n",
       "</table>\n",
       "<p>63 rows × 8 columns</p>\n",
       "</div>"
      ],
      "text/plain": [
       "    Year  fossil emissions excluding carbonation  land-use change emissions  \\\n",
       "0   1959                                2.417091                   1.938933   \n",
       "1   1960                                2.562137                   1.792600   \n",
       "2   1961                                2.570540                   1.666500   \n",
       "3   1962                                2.661315                   1.608267   \n",
       "4   1963                                2.803399                   1.542733   \n",
       "..   ...                                     ...                        ...   \n",
       "58  2017                                9.851730                   1.182300   \n",
       "59  2018                               10.050902                   1.141200   \n",
       "60  2019                               10.120786                   1.243800   \n",
       "61  2020                                9.624478                   1.107467   \n",
       "62  2021                               10.132055                   1.075067   \n",
       "\n",
       "    atmospheric growth  ocean sink  land sink  cement carbonation sink  \\\n",
       "0              2.03904    0.975005   0.401805                 0.012684   \n",
       "1              1.50804    0.959013   1.234131                 0.013835   \n",
       "2              1.65672    0.805321   0.839819                 0.014723   \n",
       "3              1.18944    0.895229   1.322231                 0.015872   \n",
       "4              1.21068    1.059837   0.871917                 0.016867   \n",
       "..                 ...         ...        ...                      ...   \n",
       "58             4.54536    2.854828   3.555004                 0.202927   \n",
       "59             5.03388    2.947231   3.647435                 0.209702   \n",
       "60             5.43744    2.994756   3.041949                 0.214002   \n",
       "61             4.99140    2.998115   3.105137                 0.220563   \n",
       "62             5.22504    2.879512   3.450347                 0.229795   \n",
       "\n",
       "    budget imbalance  \n",
       "0           0.927490  \n",
       "1           0.639717  \n",
       "2           0.920457  \n",
       "3           0.846810  \n",
       "4           1.186831  \n",
       "..               ...  \n",
       "58         -0.124088  \n",
       "59         -0.646145  \n",
       "60         -0.323561  \n",
       "61         -0.583270  \n",
       "62         -0.577571  \n",
       "\n",
       "[63 rows x 8 columns]"
      ]
     },
     "execution_count": 57,
     "metadata": {},
     "output_type": "execute_result"
    }
   ],
   "source": [
    "dfcarbon"
   ]
  },
  {
   "cell_type": "markdown",
   "metadata": {},
   "source": [
    "## Indexing into a dataframe (aka slicing a dataframe)\n",
    "The two methods that are essential to accessing information in a dataframe are `loc` and `iloc`. `loc` takes the row and column names as strings. `iloc` takes only integers that label the rows and columns. Using `iloc` allows you to index a dataframe using only numbers."
   ]
  },
  {
   "cell_type": "code",
   "execution_count": 45,
   "metadata": {
    "scrolled": false
   },
   "outputs": [
    {
     "data": {
      "text/plain": [
       "1     0.619\n",
       "2     0.580\n",
       "3     0.660\n",
       "4     0.594\n",
       "5     0.644\n",
       "6     0.498\n",
       "7     0.741\n",
       "8     0.568\n",
       "9     0.668\n",
       "10    0.484\n",
       "11    0.750\n",
       "Name: 2018/03, dtype: float64"
      ]
     },
     "execution_count": 45,
     "metadata": {},
     "output_type": "execute_result"
    }
   ],
   "source": [
    "dftemps.loc['2018/03']"
   ]
  },
  {
   "cell_type": "code",
   "execution_count": null,
   "metadata": {},
   "outputs": [],
   "source": [
    "dftemps.loc['2018/03',1]"
   ]
  },
  {
   "cell_type": "code",
   "execution_count": null,
   "metadata": {},
   "outputs": [],
   "source": [
    "dftemps.iloc[:,3]"
   ]
  },
  {
   "cell_type": "code",
   "execution_count": null,
   "metadata": {},
   "outputs": [],
   "source": [
    "dfcarbon['ocean sink'][3:5]"
   ]
  },
  {
   "cell_type": "code",
   "execution_count": null,
   "metadata": {},
   "outputs": [],
   "source": [
    "dfcarbon.loc[0,'ocean sink']"
   ]
  },
  {
   "cell_type": "code",
   "execution_count": null,
   "metadata": {
    "scrolled": false
   },
   "outputs": [],
   "source": [
    "dfcarbon.iloc[:,2]"
   ]
  },
  {
   "cell_type": "code",
   "execution_count": null,
   "metadata": {},
   "outputs": [],
   "source": [
    "dfcarbon.Year"
   ]
  },
  {
   "cell_type": "markdown",
   "metadata": {},
   "source": [
    "## Adding to Dataframes\n",
    "You can add columns to a dataframe with the following syntax. Notice that `pandas` has a number of methods associated with dataframes, such as `mean`, `min`, `max`. These methods are meant to act directly on the dataframe. Other statistical tools are available directly from pandas, you can visit [Dataframe statistical methods](https://studyopedia.com/pandas/statistical-functions/). The basic statistical tools you have are\n",
    "| Method      | Description                                      |\n",
    "|-------------|--------------------------------------------------|\n",
    "| sum()       | Return the sum of the values.                    |\n",
    "| count()     | Return the count of non-empty values.            |\n",
    "| max()       | Return the maximum of the values.                |\n",
    "| min()       | Return the minimum of the values.                |\n",
    "| mean()      | Return the mean of the values.                   |\n",
    "| median()    | Return the median of the values.                 |\n",
    "| std()       | Return the standard deviation of the values.     |\n",
    "| describe()  | Return the summary statistics for each column.   |\n"
   ]
  },
  {
   "cell_type": "code",
   "execution_count": null,
   "metadata": {},
   "outputs": [],
   "source": [
    "# add new columns\n",
    "dftemps['average'] = dftemps.mean(axis=1)\n",
    "dftemps['min'] = dftemps.min(axis=1)\n",
    "dftemps['max'] = dftemps.max(axis=1)"
   ]
  },
  {
   "cell_type": "code",
   "execution_count": null,
   "metadata": {},
   "outputs": [],
   "source": [
    "dftemps['average']"
   ]
  },
  {
   "cell_type": "code",
   "execution_count": null,
   "metadata": {},
   "outputs": [],
   "source": [
    "# sort by average\n",
    "dftemps2 = dftemps.sort_values(by='average')"
   ]
  },
  {
   "cell_type": "code",
   "execution_count": null,
   "metadata": {},
   "outputs": [],
   "source": [
    "dftemps2"
   ]
  },
  {
   "cell_type": "code",
   "execution_count": null,
   "metadata": {
    "scrolled": true
   },
   "outputs": [],
   "source": [
    "# get a certain column\n",
    "dftemps2.average"
   ]
  },
  {
   "cell_type": "code",
   "execution_count": 58,
   "metadata": {},
   "outputs": [
    {
     "ename": "KeyError",
     "evalue": "'fossil emissions'",
     "output_type": "error",
     "traceback": [
      "\u001b[1;31m---------------------------------------------------------------------------\u001b[0m",
      "\u001b[1;31mKeyError\u001b[0m                                  Traceback (most recent call last)",
      "File \u001b[1;32m~\\anaconda3\\Lib\\site-packages\\pandas\\core\\indexes\\base.py:3653\u001b[0m, in \u001b[0;36mIndex.get_loc\u001b[1;34m(self, key)\u001b[0m\n\u001b[0;32m   3652\u001b[0m \u001b[38;5;28;01mtry\u001b[39;00m:\n\u001b[1;32m-> 3653\u001b[0m     \u001b[38;5;28;01mreturn\u001b[39;00m \u001b[38;5;28mself\u001b[39m\u001b[38;5;241m.\u001b[39m_engine\u001b[38;5;241m.\u001b[39mget_loc(casted_key)\n\u001b[0;32m   3654\u001b[0m \u001b[38;5;28;01mexcept\u001b[39;00m \u001b[38;5;167;01mKeyError\u001b[39;00m \u001b[38;5;28;01mas\u001b[39;00m err:\n",
      "File \u001b[1;32m~\\anaconda3\\Lib\\site-packages\\pandas\\_libs\\index.pyx:147\u001b[0m, in \u001b[0;36mpandas._libs.index.IndexEngine.get_loc\u001b[1;34m()\u001b[0m\n",
      "File \u001b[1;32m~\\anaconda3\\Lib\\site-packages\\pandas\\_libs\\index.pyx:176\u001b[0m, in \u001b[0;36mpandas._libs.index.IndexEngine.get_loc\u001b[1;34m()\u001b[0m\n",
      "File \u001b[1;32mpandas\\_libs\\hashtable_class_helper.pxi:7080\u001b[0m, in \u001b[0;36mpandas._libs.hashtable.PyObjectHashTable.get_item\u001b[1;34m()\u001b[0m\n",
      "File \u001b[1;32mpandas\\_libs\\hashtable_class_helper.pxi:7088\u001b[0m, in \u001b[0;36mpandas._libs.hashtable.PyObjectHashTable.get_item\u001b[1;34m()\u001b[0m\n",
      "\u001b[1;31mKeyError\u001b[0m: 'fossil emissions'",
      "\nThe above exception was the direct cause of the following exception:\n",
      "\u001b[1;31mKeyError\u001b[0m                                  Traceback (most recent call last)",
      "Cell \u001b[1;32mIn[58], line 1\u001b[0m\n\u001b[1;32m----> 1\u001b[0m dfcarbon[\u001b[38;5;124m'\u001b[39m\u001b[38;5;124mtotal carbon\u001b[39m\u001b[38;5;124m'\u001b[39m] \u001b[38;5;241m=\u001b[39m dfcarbon[\u001b[38;5;124m'\u001b[39m\u001b[38;5;124mfossil emissions\u001b[39m\u001b[38;5;124m'\u001b[39m] \u001b[38;5;241m+\u001b[39m dfcarbon[\u001b[38;5;124m'\u001b[39m\u001b[38;5;124mland-use change\u001b[39m\u001b[38;5;124m'\u001b[39m]\n",
      "File \u001b[1;32m~\\anaconda3\\Lib\\site-packages\\pandas\\core\\frame.py:3761\u001b[0m, in \u001b[0;36mDataFrame.__getitem__\u001b[1;34m(self, key)\u001b[0m\n\u001b[0;32m   3759\u001b[0m \u001b[38;5;28;01mif\u001b[39;00m \u001b[38;5;28mself\u001b[39m\u001b[38;5;241m.\u001b[39mcolumns\u001b[38;5;241m.\u001b[39mnlevels \u001b[38;5;241m>\u001b[39m \u001b[38;5;241m1\u001b[39m:\n\u001b[0;32m   3760\u001b[0m     \u001b[38;5;28;01mreturn\u001b[39;00m \u001b[38;5;28mself\u001b[39m\u001b[38;5;241m.\u001b[39m_getitem_multilevel(key)\n\u001b[1;32m-> 3761\u001b[0m indexer \u001b[38;5;241m=\u001b[39m \u001b[38;5;28mself\u001b[39m\u001b[38;5;241m.\u001b[39mcolumns\u001b[38;5;241m.\u001b[39mget_loc(key)\n\u001b[0;32m   3762\u001b[0m \u001b[38;5;28;01mif\u001b[39;00m is_integer(indexer):\n\u001b[0;32m   3763\u001b[0m     indexer \u001b[38;5;241m=\u001b[39m [indexer]\n",
      "File \u001b[1;32m~\\anaconda3\\Lib\\site-packages\\pandas\\core\\indexes\\base.py:3655\u001b[0m, in \u001b[0;36mIndex.get_loc\u001b[1;34m(self, key)\u001b[0m\n\u001b[0;32m   3653\u001b[0m     \u001b[38;5;28;01mreturn\u001b[39;00m \u001b[38;5;28mself\u001b[39m\u001b[38;5;241m.\u001b[39m_engine\u001b[38;5;241m.\u001b[39mget_loc(casted_key)\n\u001b[0;32m   3654\u001b[0m \u001b[38;5;28;01mexcept\u001b[39;00m \u001b[38;5;167;01mKeyError\u001b[39;00m \u001b[38;5;28;01mas\u001b[39;00m err:\n\u001b[1;32m-> 3655\u001b[0m     \u001b[38;5;28;01mraise\u001b[39;00m \u001b[38;5;167;01mKeyError\u001b[39;00m(key) \u001b[38;5;28;01mfrom\u001b[39;00m \u001b[38;5;21;01merr\u001b[39;00m\n\u001b[0;32m   3656\u001b[0m \u001b[38;5;28;01mexcept\u001b[39;00m \u001b[38;5;167;01mTypeError\u001b[39;00m:\n\u001b[0;32m   3657\u001b[0m     \u001b[38;5;66;03m# If we have a listlike key, _check_indexing_error will raise\u001b[39;00m\n\u001b[0;32m   3658\u001b[0m     \u001b[38;5;66;03m#  InvalidIndexError. Otherwise we fall through and re-raise\u001b[39;00m\n\u001b[0;32m   3659\u001b[0m     \u001b[38;5;66;03m#  the TypeError.\u001b[39;00m\n\u001b[0;32m   3660\u001b[0m     \u001b[38;5;28mself\u001b[39m\u001b[38;5;241m.\u001b[39m_check_indexing_error(key)\n",
      "\u001b[1;31mKeyError\u001b[0m: 'fossil emissions'"
     ]
    }
   ],
   "source": [
    "dfcarbon['total carbon'] = dfcarbon['fossil emissions'] + dfcarbon['land-use change'] "
   ]
  },
  {
   "cell_type": "code",
   "execution_count": null,
   "metadata": {},
   "outputs": [],
   "source": []
  }
 ],
 "metadata": {
  "kernelspec": {
   "display_name": "Python 3 (ipykernel)",
   "language": "python",
   "name": "python3"
  },
  "language_info": {
   "codemirror_mode": {
    "name": "ipython",
    "version": 3
   },
   "file_extension": ".py",
   "mimetype": "text/x-python",
   "name": "python",
   "nbconvert_exporter": "python",
   "pygments_lexer": "ipython3",
   "version": "3.11.5"
  }
 },
 "nbformat": 4,
 "nbformat_minor": 4
}
